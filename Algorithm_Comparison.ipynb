{
 "cells": [
  {
   "cell_type": "markdown",
   "metadata": {},
   "source": [
    "# Evaluating the reproducibility of single-cell gene regulatory network inference algorithms\n",
    "\n",
    "scNET evaluates Gene Regulatory Network inference algorithms based on reproducibility.\n",
    "This markdown proposes a step by step tutorial for algorithm evaluation.\n",
    "\n",
    "Datasets used for this tutorial are available in the `scNET_data` directory, or the link https://cloud.biologie.ens.fr/index.php/s/JuJgrIL1jC6yZh4/download, as described in the Github README. Data preprocessing was done as described in the article.\n",
    "\n",
    "By default, this markdown performs reproducibility analysis for Human Retina data. The same analysis can be repeated on other biological contexts: CRC T-cells and 5 different types of hematopoietic cells by uncommenting its corresponding blocks of code in the `Loading pre-processed input scRNA-seq data` cells.\n",
    "\n",
    "# Setting the scNET environment\n",
    "\n",
    "Before loading data, make sure that the scNET environment has been correctly created and activated (see Github README). Additionally, run the following code to ensure an R interface with `jupyter notebook` \n"
   ]
  },
  {
   "cell_type": "code",
   "execution_count": 1,
   "metadata": {},
   "outputs": [],
   "source": [
    "import os\n",
    "\n",
    "#INSERT HERE THE BASE DIRECTORY OF scNet\n",
    "scnet_dir = \"/home/daniele.capocefalo/homeSing/scHMLNs/scNET\" \n",
    "os.chdir(scnet_dir)"
   ]
  },
  {
   "cell_type": "code",
   "execution_count": 2,
   "metadata": {},
   "outputs": [],
   "source": [
    "###interface with R\n",
    "%load_ext rpy2.ipython"
   ]
  },
  {
   "cell_type": "markdown",
   "metadata": {},
   "source": [
    "Next, load R functions from the scNET repository "
   ]
  },
  {
   "cell_type": "code",
   "execution_count": 77,
   "metadata": {},
   "outputs": [],
   "source": [
    "%%R -i scnet_dir\n",
    "\n",
    "###load reproducibility functions and libraries\n",
    "source(file.path(scnet_dir, 'Functions.R'))"
   ]
  },
  {
   "cell_type": "markdown",
   "metadata": {},
   "source": [
    "# Loading pre-processed input scRNA-seq data \n",
    "\n",
    "As described in the methods of the paper, raw count data corresponding to QC passed cells (as per the original articles) was first downloaded and pre-processed. Here, data will be loaded as both Python and R variables, according to each algorithm's specificity (GRNBoost2 and GENIE3 in Python, PPCOR in R).\n",
    "\n",
    "In this cell, users can comment and uncomment lines depending on the biological context they'd like to analyze. The default is set to Human Retina data."
   ]
  },
  {
   "cell_type": "code",
   "execution_count": 4,
   "metadata": {},
   "outputs": [
    {
     "data": {
      "text/plain": [
       "['/home/daniele.capocefalo/homeSing/scHMLNs/scNET/scNET_data/RETINA/Lukowski_et_al.csv',\n",
       " '/home/daniele.capocefalo/homeSing/scHMLNs/scNET/scNET_data/RETINA/Menon_et_al.csv']"
      ]
     },
     "execution_count": 4,
     "metadata": {},
     "output_type": "execute_result"
    }
   ],
   "source": [
    "import glob\n",
    "\n",
    "#RETINA\n",
    "files= glob.glob(os.path.join(scnet_dir, 'scNET_data/RETINA/*.csv'))\n",
    "files\n",
    "# #CRC T cells\n",
    "# files= glob.glob('../scNET_data/CRC T-cells/*.csv')\n",
    "\n",
    "# #Hematopoesis\n",
    "# files= glob.glob('../scNET_data/HEMATO/*CLP.csv')\n",
    "\n",
    "# files= glob.glob('../scNET_data/HEMATO/*DC.csv')\n",
    "\n",
    "# files= glob.glob('../scNET_data/HEMATO/*Ery.csv')\n",
    "\n",
    "# files= glob.glob('../scNET_data/HEMATO/*HSC.csv')\n",
    "\n",
    "# files= glob.glob('../scNET_data/HEMATO/*Mono.csv')\n"
   ]
  },
  {
   "cell_type": "markdown",
   "metadata": {},
   "source": [
    "Then, the following cell will load the selected data to Python. Additionally, a list of Transcription Factors (TF) to provide to the algorithms GRNBoost2 and GENIE3 will also be loaded (see GRNBoost2)."
   ]
  },
  {
   "cell_type": "code",
   "execution_count": 5,
   "metadata": {},
   "outputs": [],
   "source": [
    "#Load data\n",
    "import pandas as pd\n",
    "from arboreto.utils import load_tf_names\n",
    "\n",
    "First_dataset= pd.read_csv(files[0], sep=',', index_col=0)\n",
    "First_exp= First_dataset.to_numpy()\n",
    "Second_dataset= pd.read_csv(files[1], sep=',', index_col=0)\n",
    "Second_exp= Second_dataset.to_numpy()\n",
    "genes= First_dataset.columns\n",
    "\n",
    "###Load TF list\n",
    "tf_names= load_tf_names(os.path.join(scnet_dir, 'scNET_data/TF_names.txt'))"
   ]
  },
  {
   "cell_type": "markdown",
   "metadata": {},
   "source": [
    "This next cell will load the same data into a R variable. Please make sure that the uncommented lines in this cell corresponds to the biological context selected in the first cell of this section. Again, the default is set to Human Retina data."
   ]
  },
  {
   "cell_type": "code",
   "execution_count": 6,
   "metadata": {},
   "outputs": [],
   "source": [
    "%%R -i scnet_dir\n",
    "#RETINA\n",
    "setwd(file.path(scnet_dir, 'scNET_data/RETINA/'))\n",
    "files = list.files(pattern='.csv')\n",
    "\n",
    "\n",
    "#CRC T-cells\n",
    "# setwd('../scNET_data/CRC T-cells')\n",
    "# files= list.files(pattern='.csv')\n",
    "\n",
    "# #Hematopoesis : CLP\n",
    "# setwd('../scNET_data/HEMATO')\n",
    "# files= list.files(pattern='CLP.csv')\n",
    "\n",
    "# files= list.files(pattern='DC.csv')\n",
    "\n",
    "# files= list.files(pattern='Ery.csv')\n",
    "\n",
    "# files= list.files(pattern='HSC.csv')\n",
    "\n",
    "# files= list.files(pattern='Mono.csv')\n",
    "\n",
    "\n",
    "###load files \n",
    "data= lapply(files, read.csv, row.names=1)"
   ]
  },
  {
   "cell_type": "markdown",
   "metadata": {},
   "source": [
    "### Create 'Results' directory"
   ]
  },
  {
   "cell_type": "code",
   "execution_count": 7,
   "metadata": {},
   "outputs": [
    {
     "name": "stdout",
     "output_type": "stream",
     "text": [
      "WARNING:\n",
      "\tdirectory \"/hpcnfs/scratch/temporary/ieo5144/scHMLNs/scNET/Results\" already exists\n"
     ]
    }
   ],
   "source": [
    "resultsdir = os.path.join(scnet_dir, \"Results\")\n",
    "try:\n",
    "    os.mkdir(resultsdir)\n",
    "except:\n",
    "    print(\"WARNING:\\n\\tdirectory \\\"{}\\\" already exists\".format(resultsdir))"
   ]
  },
  {
   "cell_type": "markdown",
   "metadata": {},
   "source": [
    "# Running single-cell network inference algorithms\n",
    "\n",
    "We will now apply GRNBoost2, GENIE3 and PPCOR to the loaded data.\n",
    "To apply any additional algorithms, refer to Github README\n",
    "\n",
    "## GRNBoost2\n",
    "\n",
    "GRNBoost2 (Aibar, S., et al., ) takes as input an expression matrix and produces a list of TF to target interactions. This link list is formatted into 3 columns (column 1: TF, column2: Target, column3: link weight), and represents a directed network. A curated list of human transcription factors(Chawla, K., et al.) is provided as input to steer the inference. The code to apply GRNBoost2 to this data has been configured as described in https://arboreto.readthedocs.io/en/latest/. To speed up computation and produce networks for both datasets at once, a custom Dask client will help paralellize tasks.  \n",
    "\n",
    "In practice, it is highly recommended to copy the following cell (preceded by the first two cells in the `Loading pre-processed input scRNA-seq data` section) into a seperate script and executing GRNBoost2 independantly, as the network inference is time consuming."
   ]
  },
  {
   "cell_type": "code",
   "execution_count": 9,
   "metadata": {},
   "outputs": [],
   "source": [
    "### Applying GRNBoost2###\n",
    "from arboreto.algo import grnboost2\n",
    "from distributed import LocalCluster, Client\n",
    "\n",
    "if __name__ == '__main__':\n",
    "    # ex_matrix is a DataFrame with gene names as column names\n",
    "    #build local cluster for parallel computation \n",
    "    local_cluster = LocalCluster(n_workers=4,\n",
    "                                 threads_per_worker=1,\n",
    "                                 memory_limit=10e9)\n",
    "    custom_client = Client(local_cluster)\n",
    "    \n",
    "    #build networks \n",
    "    First_Network = grnboost2(expression_data=First_exp,\n",
    "                        gene_names= genes,\n",
    "                        tf_names= tf_names,\n",
    "                        client_or_address=custom_client,\n",
    "                        seed=100)\n",
    "    Second_Network = grnboost2(expression_data=Second_exp,\n",
    "                        gene_names= genes,\n",
    "                        tf_names= tf_names,\n",
    "                        client_or_address=custom_client,\n",
    "                        seed=100)\n",
    "    \n",
    "    #close custom client\n",
    "\n",
    "    custom_client.close()\n",
    "    local_cluster.close()\n",
    "    \n",
    "    #export networks to results file\n",
    "    First_Network.to_csv(os.path.join(scnet_dir, 'Results/GRNBoost2_Network1.tsv'), sep='\\t', index=False, header=False)\n",
    "    Second_Network.to_csv(os.path.join(scnet_dir, 'Results/GRNBoost2_Network2.tsv'), sep='\\t', index=False, header=False)"
   ]
  },
  {
   "cell_type": "markdown",
   "metadata": {},
   "source": [
    "## GENIE3\n",
    "\n",
    "GENIE3 (Aibar, S., et al.) was also provided with a TF list, and produces a link list in the same format as GRNBoost2. Similarly, the code to apply GENIE3 has been configured as described in https://arboreto.readthedocs.io/en/latest/, and the inference is parallelized.  \n",
    "\n",
    "Again,it is highly recommended to copy the following cell (preceded by the first two cells in the `Loading pre-processed input scRNA-seq data` section) into a seperate script. This is especially pertinent because GENIE3 is  computationally heavier than GRNBoost2"
   ]
  },
  {
   "cell_type": "code",
   "execution_count": null,
   "metadata": {},
   "outputs": [],
   "source": [
    "###Applying GENIE3###\n",
    "from arboreto.algo import genie3\n",
    "from distributed import LocalCluster, Client\n",
    "\n",
    "if __name__ == '__main__':\n",
    "    # ex_matrix is a DataFrame with gene names as column names\n",
    "    #build local cluster for parallel computation \n",
    "    local_cluster = LocalCluster(n_workers=4,\n",
    "                                 threads_per_worker=1,\n",
    "                                 memory_limit=10e9)\n",
    "    custom_client = Client(local_cluster)\n",
    "    \n",
    "    #build networks \n",
    "    First_Network = genie3(expression_data=First_exp,\n",
    "                        gene_names= genes,\n",
    "                        tf_names= tf_names,\n",
    "                        client_or_address=custom_client,\n",
    "                        seed=100)\n",
    "    Second_Network = genie3(expression_data=Second_exp,\n",
    "                        gene_names= genes,\n",
    "                        tf_names= tf_names,\n",
    "                        client_or_address=custom_client,\n",
    "                        seed=100)\n",
    "    \n",
    "    #close custom client\n",
    "    custom_client.close()\n",
    "    local_cluster.close()\n",
    "    \n",
    "    #export networks to results file\n",
    "    First_Network.to_csv(os.path.join(scnet_dir, 'Results/GENIE3_Network1.tsv'), sep='\\t', index=False, header=False)\n",
    "    Second_Network.to_csv(os.path.join(scnet_dir, 'Results/GENIE3_Network2.tsv'), sep='\\t', index=False, header=False)"
   ]
  },
  {
   "cell_type": "markdown",
   "metadata": {},
   "source": [
    "## PPCOR\n",
    "\n",
    "PPCOR calculates partial Spearman correlation coefficients between ALL possible gene pairs based on gene expression values. This algorithm produces an adjacency matrix, with genes in both columns and rows, and whose values correspond to correlation coefficients. A post-processing step is thus necessary for PPCOR results to 1) select interactions that are the most significant and 2) reformat links into a list that resembles GRNBoost2 and GENIE3 outputs. Note that PPCOR produces an undirected network after post-processing.\n",
    "\n",
    "Links are selected by setting a threshold on correlation coefficient values. The threshold is determined by calculating a significant correlation coefficent value, given a statistical power P=0.8, a significance level alpha=0.05, and N= the number of cells in the corresponding dataset.\n",
    "\n",
    "It was noted during the analysis that PPCOR can give non-valid correlation coefficient values (>1 and <-1). The post-processing function checks for the percentage of valid links in ppcor results. If coefficients are not in the expected range, no networks will be produced. For details on the post-processing code, see `Functions.R`"
   ]
  },
  {
   "cell_type": "code",
   "execution_count": 11,
   "metadata": {},
   "outputs": [],
   "source": [
    "%%R -i scnet_dir\n",
    "#Applying PPCOR \n",
    "library(ppcor)\n",
    "\n",
    "PPCOR.res.net1= pcor(data[[1]], method= 'spearman')\n",
    "PPCOR.res.net2= pcor(data[[2]], method= 'spearman')\n",
    "ppcor.res= list(net1= PPCOR.res.net1, net2=PPCOR.res.net2)\n",
    "\n",
    "setwd(file.path(scnet_dir, 'Results/'))\n",
    "saveRDS(ppcor.res, file='PPCOR_raw_results.Rds')\n",
    "\n",
    "#calculate threhsold according to ncells in each dataset\n",
    "ncells1= nrow(data[[1]])#cells in rows\n",
    "thresh1=pwr.r.test(n = ncells1, sig.level = 0.05, power = 0.8, alternative = \"two.sided\")$r\n",
    "ncells2= nrow(data[[2]])#cells in rows\n",
    "thresh2=pwr.r.test(n = ncells2, sig.level = 0.05, power = 0.8, alternative = \"two.sided\")$r\n",
    "\n",
    "#Post-process PPCOR results to produce networks\n",
    "ppcor.net1=ppcor.post(ppcor.res[[1]], coefficient.threshold = thresh1)\n",
    "ppcor.net2=ppcor.post(ppcor.res[[2]], coefficient.threshold = thresh2)\n",
    "\n",
    "#Export PPCOR results\n",
    "if(nrow(ppcor.net1)!= 0 & nrow(ppcor.net2)!=0){\n",
    "    write.table(ppcor.net1, 'PPCOR_Network1.tsv', quote=F, sep='\\t', row.names = F)\n",
    "    write.table(ppcor.net2, 'PPCOR_Network2.tsv', quote=F, sep='\\t', row.names = F)\n",
    "}else{message('Networks produced by PPCOR can not be analysed for reproducibility')}"
   ]
  },
  {
   "cell_type": "markdown",
   "metadata": {},
   "source": [
    "# Algorithm reproducibility evaluation\n",
    "\n",
    "Once all algorithms have been applied on both datasets, their reproducibility can be evaluated. Three metrics are calculated: Intersection index, Weighted Jaccard Similarity (WJS) and RcisTarget score (see Methods for more details, and `Functions.R` for details on the code). \n",
    "\n",
    "Before calculating the RcisTarget score, the RcisTarget algorithm(Aibar, S., et al.) must first be applied to all networks. Note that here, RcisTarget has been customized to select only High Confidence links, that are supported by strong motif evidence (see Methods)\n",
    "\n",
    "**IMPORTANT NOTE**: The Rcis Database for the benchmarking can be downloaded [here](https://resources.aertslab.org/cistarget/databases/homo_sapiens/hg19/refseq_r45/mc9nr/gene_based/hg19-tss-centered-5kb-7species.mc9nr.feather)"
   ]
  },
  {
   "cell_type": "code",
   "execution_count": 53,
   "metadata": {},
   "outputs": [
    {
     "name": "stdout",
     "output_type": "stream",
     "text": [
      "[1] \"Reproducibility Analysis directory already exists: /home/daniele.capocefalo/homeSing/scHMLNs/scNET/Results/Reproducibility_Analysis will overwrite\"\n",
      "[1] \"Rcis on GRNBoost2 done!\"\n",
      "[1] \"Rcis on GENIE3 done!\"\n"
     ]
    },
    {
     "name": "stderr",
     "output_type": "stream",
     "text": [
      "R[write to console]: Genes in the gene sets NOT available in the dataset: \n",
      "\tNELFA: \t1 (0% of 260)\n",
      "\tZBTB18: \t1 (0% of 270)\n",
      "\n",
      "R[write to console]: Genes in the gene sets NOT available in the dataset: \n",
      "\tNELFE: \t1 (0% of 375)\n",
      "\tZNF322: \t2 (0% of 461)\n",
      "\tHNRNPLL: \t1 (0% of 449)\n",
      "\tCARF: \t1 (0% of 310)\n",
      "\tGPANK1: \t1 (0% of 362)\n",
      "\n"
     ]
    },
    {
     "name": "stdout",
     "output_type": "stream",
     "text": [
      "[1] \"Rcis on PPCOR done!\"\n"
     ]
    }
   ],
   "source": [
    "%%R -i scnet_dir -o res_dir\n",
    "\n",
    "#Setting Up directories\n",
    "\n",
    "res_dir = file.path(scnet_dir, 'Results')\n",
    "\n",
    "#make a Reproducibility Analysis Directory\n",
    "output_dir = file.path(res_dir, \"Reproducibility_Analysis\")\n",
    "if (!dir.exists(output_dir)){\n",
    "    print(paste(\"Creating Reproducibility Analysis directory at:\", output_dir, collapse = \"\\t\"))\n",
    "    dir.create(output_dir, showWarnings = FALSE)\n",
    "} else {\n",
    "    print(paste(\"Reproducibility Analysis directory already exists:\", output_dir, \"will overwrite\", collapse = \"\\t\"))\n",
    "}\n",
    "\n",
    "chosenDB = file.path(scnet_dir, \"scNET_data\", \"hg19-tss-centered-5kb-7species.mc9nr.feather\")\n",
    "\n",
    "##### execute Rcistarget#####\n",
    "Rcis_GRNBoost2 = Custom.Rcis(input.dir=res_dir,\n",
    "                     pattern='GRNBoost2',\n",
    "                     chosenDb=chosenDB,\n",
    "                     output.dir= output_dir,\n",
    "                     MinGenesetSize=0, \n",
    "                     directed=T)\n",
    "print(\"Rcis on GRNBoost2 done!\")\n",
    "\n",
    "Rcis_GENIE3 = Custom.Rcis(input.dir=res_dir,\n",
    "                     pattern='GENIE3',\n",
    "                     chosenDb=chosenDB,\n",
    "                     output.dir=output_dir,\n",
    "                     MinGenesetSize=0, \n",
    "                     directed=T)\n",
    "print(\"Rcis on GENIE3 done!\")\n",
    "\n",
    "Rcis_PPCOR = Custom.Rcis(input.dir=res_dir,\n",
    "                     pattern='PPCOR',\n",
    "                     chosenDb=chosenDB,\n",
    "                     output.dir=output_dir,\n",
    "                     MinGenesetSize=0, \n",
    "                     directed=F)\n",
    "print(\"Rcis on PPCOR done!\")"
   ]
  },
  {
   "cell_type": "markdown",
   "metadata": {},
   "source": [
    "Once RcisTarget has been applied, we can now calculate reproducibility scores for each algorithm."
   ]
  },
  {
   "cell_type": "code",
   "execution_count": 54,
   "metadata": {},
   "outputs": [
    {
     "name": "stderr",
     "output_type": "stream",
     "text": [
      "R[write to console]: <sparse>[ <logic> ] : .M.sub.i.logical() maybe inefficient\n",
      "\n",
      "R[write to console]: <sparse>[ <logic> ] : .M.sub.i.logical() maybe inefficient\n",
      "\n"
     ]
    },
    {
     "name": "stdout",
     "output_type": "stream",
     "text": [
      "[1] \"GRNBoost2 DONE!\"\n"
     ]
    },
    {
     "name": "stderr",
     "output_type": "stream",
     "text": [
      "R[write to console]: <sparse>[ <logic> ] : .M.sub.i.logical() maybe inefficient\n",
      "\n",
      "R[write to console]: <sparse>[ <logic> ] : .M.sub.i.logical() maybe inefficient\n",
      "\n"
     ]
    },
    {
     "name": "stdout",
     "output_type": "stream",
     "text": [
      "[1] \"GENIE3 DONE!\"\n"
     ]
    },
    {
     "name": "stderr",
     "output_type": "stream",
     "text": [
      "R[write to console]: <sparse>[ <logic> ] : .M.sub.i.logical() maybe inefficient\n",
      "\n",
      "R[write to console]: <sparse>[ <logic> ] : .M.sub.i.logical() maybe inefficient\n",
      "\n"
     ]
    },
    {
     "name": "stdout",
     "output_type": "stream",
     "text": [
      "[1] \"PPCOR DONE!\"\n"
     ]
    }
   ],
   "source": [
    "%%R -i res_dir\n",
    "source(file.path(scnet_dir, 'Functions.R'))\n",
    "\n",
    "\n",
    "###Results\n",
    "Results= Reproducibility.stats(c('GRNBoost2','GENIE3', 'PPCOR'),\n",
    "                               Results.dir= res_dir)"
   ]
  },
  {
   "cell_type": "markdown",
   "metadata": {},
   "source": [
    "Add Rcis evaluations"
   ]
  },
  {
   "cell_type": "code",
   "execution_count": 55,
   "metadata": {},
   "outputs": [
    {
     "name": "stdout",
     "output_type": "stream",
     "text": [
      "  Intersection_index                WJS Algorithm RcisTarget_index\n",
      "1  0.922713766432937  0.306479690533964 GRNBoost2       0.01781665\n",
      "2                  1  0.668927588709453    GENIE3       0.01763230\n",
      "3 0.0664630682359759 0.0251921017337743     PPCOR       0.00000000\n"
     ]
    }
   ],
   "source": [
    "%%R -i res_dir\n",
    "\n",
    "Results[,'RcisTarget_index']= c(Rcis.percent(Rcis_GRNBoost2),\n",
    "                               Rcis.percent(Rcis_GENIE3),\n",
    "                               Rcis.percent(Rcis_PPCOR))\n",
    "\n",
    "Results"
   ]
  },
  {
   "cell_type": "markdown",
   "metadata": {},
   "source": [
    "The above results can be visualized as barplots, as follows:"
   ]
  },
  {
   "cell_type": "code",
   "execution_count": 60,
   "metadata": {},
   "outputs": [
    {
     "data": {
      "image/png": "[encoded data removed]"
     },
     "metadata": {},
     "output_type": "display_data"
    }
   ],
   "source": [
    "%%R\n",
    "\n",
    "library(ggplot2)\n",
    "\n",
    "###Plotting results\n",
    "\n",
    "ggplot(data=Results, aes(x=Algorithm, y= Intersection_index, fill='')) +\n",
    "geom_bar(stat=\"identity\")+\n",
    "ggtitle('Intersection index comparison') + theme_classic()"
   ]
  },
  {
   "cell_type": "code",
   "execution_count": 58,
   "metadata": {},
   "outputs": [
    {
     "data": {
      "image/png": "[encoded data removed]"
     },
     "metadata": {},
     "output_type": "display_data"
    }
   ],
   "source": [
    "%%R\n",
    "ggplot(data=Results, aes(x=Algorithm, y= WJS, fill='')) +\n",
    "geom_bar(stat=\"identity\")+\n",
    "ggtitle('WJS comparison') + theme_classic()"
   ]
  },
  {
   "cell_type": "code",
   "execution_count": 59,
   "metadata": {},
   "outputs": [
    {
     "data": {
      "image/png": "[encoded data removed]"
     },
     "metadata": {},
     "output_type": "display_data"
    }
   ],
   "source": [
    "%%R\n",
    "ggplot(data=Results, aes(x=Algorithm, y= RcisTarget_index, fill='')) +\n",
    "geom_bar(stat=\"identity\")+\n",
    "ggtitle('RcisTarget score comparison') + theme_classic()"
   ]
  },
  {
   "cell_type": "markdown",
   "metadata": {},
   "source": [
    "# Quantile cutting\n",
    "\n",
    "In this part of the analysis, we threshold network weights according to certain percentiles (40, 80 and 90%). Calculating reproducibility measures for each percentile allows us to compare algorithm stability (see Methods)"
   ]
  },
  {
   "cell_type": "code",
   "execution_count": 74,
   "metadata": {},
   "outputs": [],
   "source": [
    "%%R -i res_dir\n",
    "\n",
    "###Quantile Cutting\n",
    "GRN= lapply(list.files(res_dir, pattern=glob2rx('GRNBoost2*.tsv')), read.table)\n",
    "GEN= lapply(list.files(res_dir, pattern=glob2rx('GENIE3*.tsv')), read.table)\n",
    "PPCOR= lapply(list.files(res_dir, pattern=glob2rx('PPCOR*.tsv')), read.table, header=T)"
   ]
  },
  {
   "cell_type": "code",
   "execution_count": 79,
   "metadata": {},
   "outputs": [
    {
     "name": "stderr",
     "output_type": "stream",
     "text": [
      "R[write to console]: <sparse>[ <logic> ] : .M.sub.i.logical() maybe inefficient\n",
      "\n",
      "R[write to console]: <sparse>[ <logic> ] : .M.sub.i.logical() maybe inefficient\n",
      "\n",
      "R[write to console]: <sparse>[ <logic> ] : .M.sub.i.logical() maybe inefficient\n",
      "\n",
      "R[write to console]: <sparse>[ <logic> ] : .M.sub.i.logical() maybe inefficient\n",
      "\n",
      "R[write to console]: <sparse>[ <logic> ] : .M.sub.i.logical() maybe inefficient\n",
      "\n",
      "R[write to console]: <sparse>[ <logic> ] : .M.sub.i.logical() maybe inefficient\n",
      "\n",
      "R[write to console]: <sparse>[ <logic> ] : .M.sub.i.logical() maybe inefficient\n",
      "\n",
      "R[write to console]: <sparse>[ <logic> ] : .M.sub.i.logical() maybe inefficient\n",
      "\n",
      "R[write to console]: <sparse>[ <logic> ] : .M.sub.i.logical() maybe inefficient\n",
      "\n",
      "R[write to console]: <sparse>[ <logic> ] : .M.sub.i.logical() maybe inefficient\n",
      "\n",
      "R[write to console]: <sparse>[ <logic> ] : .M.sub.i.logical() maybe inefficient\n",
      "\n",
      "R[write to console]: <sparse>[ <logic> ] : .M.sub.i.logical() maybe inefficient\n",
      "\n",
      "R[write to console]: <sparse>[ <logic> ] : .M.sub.i.logical() maybe inefficient\n",
      "\n",
      "R[write to console]: <sparse>[ <logic> ] : .M.sub.i.logical() maybe inefficient\n",
      "\n",
      "R[write to console]: <sparse>[ <logic> ] : .M.sub.i.logical() maybe inefficient\n",
      "\n",
      "R[write to console]: <sparse>[ <logic> ] : .M.sub.i.logical() maybe inefficient\n",
      "\n",
      "R[write to console]: <sparse>[ <logic> ] : .M.sub.i.logical() maybe inefficient\n",
      "\n",
      "R[write to console]: <sparse>[ <logic> ] : .M.sub.i.logical() maybe inefficient\n",
      "\n"
     ]
    }
   ],
   "source": [
    "%%R -i scnet_dir\n",
    "\n",
    "thresh.GRN=quantile.stats(GRN[[1]], GRN[[2]], c(0.4, 0.8, 0.9), Directed=T, label='GRNBoost2')\n",
    "thresh.GEN=quantile.stats(GEN[[1]], GEN[[2]], c(0.4, 0.8, 0.9), Directed=T, label='GENIE3')\n",
    "thresh.PPCOR=quantile.stats(PPCOR[[1]], PPCOR[[2]], c(0.4, 0.8, 0.9), Directed=F, label='PPCOR')"
   ]
  },
  {
   "cell_type": "code",
   "execution_count": 80,
   "metadata": {
    "tags": []
   },
   "outputs": [
    {
     "name": "stdout",
     "output_type": "stream",
     "text": [
      "  network_size_net1 network_size_net2       intersection                 WJS\n",
      "1            813762            852661  0.659138667079564   0.294879154934967\n",
      "2            271254            284221  0.473504538181925   0.269109282669521\n",
      "3            135627            142111   0.43230330243978   0.258269193036482\n",
      "4            931650            931650  0.779113400955294   0.523965223927126\n",
      "5            310550            310550  0.620669779423603   0.390489981132236\n",
      "6            155275            155275  0.537446465947512   0.327765440316399\n",
      "7            472106            712337 0.0422426319512991  0.0160593207296045\n",
      "8            157369            237446 0.0194638079926796 0.00786656990660047\n",
      "9             78685            118723 0.0148821249285124 0.00643775854269827\n",
      "  Quantile Algorithm\n",
      "1      0.4 GRNBoost2\n",
      "2      0.8 GRNBoost2\n",
      "3      0.9 GRNBoost2\n",
      "4      0.4    GENIE3\n",
      "5      0.8    GENIE3\n",
      "6      0.9    GENIE3\n",
      "7      0.4     PPCOR\n",
      "8      0.8     PPCOR\n",
      "9      0.9     PPCOR\n"
     ]
    }
   ],
   "source": [
    "%%R \n",
    "\n",
    "all.quantiles= rbind(thresh.GRN, thresh.GEN)\n",
    "all.quantiles= rbind(all.quantiles, thresh.PPCOR)\n",
    "\n",
    "all.quantiles"
   ]
  },
  {
   "cell_type": "markdown",
   "metadata": {},
   "source": [
    "The above results can be visualized, as follows:"
   ]
  },
  {
   "cell_type": "code",
   "execution_count": 83,
   "metadata": {},
   "outputs": [
    {
     "data": {
      "image/png": "[encoded data removed]"
     },
     "metadata": {},
     "output_type": "display_data"
    }
   ],
   "source": [
    "%%R\n",
    "\n",
    "###Plots\n",
    "ggplot(data=all.quantiles, aes(x=Quantile, y= intersection, group=Algorithm)) +\n",
    "  geom_line(aes(color=Algorithm))+\n",
    "  geom_point(aes(color=Algorithm))+\n",
    "  ggtitle('Intersection Index comparison according to Quantiles') + theme_classic()"
   ]
  },
  {
   "cell_type": "code",
   "execution_count": 82,
   "metadata": {},
   "outputs": [
    {
     "data": {
      "image/png": "[encoded data removed]"
     },
     "metadata": {},
     "output_type": "display_data"
    }
   ],
   "source": [
    "%%R \n",
    "\n",
    "ggplot(data=all.quantiles, aes(x=Quantile, y= WJS, group=Algorithm)) +\n",
    "  geom_line(aes(color=Algorithm))+\n",
    "  geom_point(aes(color=Algorithm))+\n",
    "  ggtitle('WJS comparison according to Quantiles') + theme_classic()"
   ]
  },
  {
   "cell_type": "code",
   "execution_count": null,
   "metadata": {},
   "outputs": [],
   "source": []
  }
 ],
 "metadata": {
  "kernelspec": {
   "display_name": "scNET",
   "language": "python",
   "name": "scnet"
  },
  "language_info": {
   "codemirror_mode": {
    "name": "ipython",
    "version": 3
   },
   "file_extension": ".py",
   "mimetype": "text/x-python",
   "name": "python",
   "nbconvert_exporter": "python",
   "pygments_lexer": "ipython3",
   "version": "3.8.10"
  }
 },
 "nbformat": 4,
 "nbformat_minor": 4
}
